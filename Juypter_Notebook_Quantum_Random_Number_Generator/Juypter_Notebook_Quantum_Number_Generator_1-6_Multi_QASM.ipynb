{
 "cells": [
  {
   "cell_type": "code",
   "execution_count": 1,
   "id": "fb9ecfec-63eb-4477-af3a-77266be91272",
   "metadata": {},
   "outputs": [],
   "source": [
    "#Import Qiskit and Qiskit.Visualization and math for the phase shift gates\n",
    "import qiskit\n",
    "from qiskit import QuantumCircuit, assemble, Aer,execute\n",
    "from qiskit.visualization import plot_bloch_multivector\n",
    "from math import sqrt, pi"
   ]
  },
  {
   "cell_type": "code",
   "execution_count": 2,
   "id": "7a894d72-f079-4a19-84ec-74dcd87e67aa",
   "metadata": {},
   "outputs": [
    {
     "name": "stderr",
     "output_type": "stream",
     "text": [
      "<frozen importlib._bootstrap>:219: RuntimeWarning: scipy._lib.messagestream.MessageStream size changed, may indicate binary incompatibility. Expected 56 from C header, got 64 from PyObject\n"
     ]
    }
   ],
   "source": [
    "#Set Current Qiskit Backend to QASM Simulator \n",
    "#Switch if using IBM Quantum Computers\n",
    "sim=Aer.get_backend('qasm_simulator')"
   ]
  },
  {
   "cell_type": "code",
   "execution_count": 3,
   "id": "829f6453-03dc-45bc-8034-57049fe38ba7",
   "metadata": {},
   "outputs": [],
   "source": [
    "#Intializes Quantum Circuit with 6 Qubits and 3 Classical Bits\n",
    "qc=QuantumCircuit(6,3)\n",
    "\n",
    "#Amount of times simulation is run\n",
    "sim_run=1"
   ]
  },
  {
   "cell_type": "code",
   "execution_count": 4,
   "id": "4abd7520-95e4-4f3b-be3e-d7ff8aa48509",
   "metadata": {},
   "outputs": [
    {
     "data": {
      "text/plain": [
       "<qiskit.circuit.instructionset.InstructionSet at 0x7fdc5c751dc0>"
      ]
     },
     "execution_count": 4,
     "metadata": {},
     "output_type": "execute_result"
    }
   ],
   "source": [
    "#Sets Qubits 3-6 into superposition(|+> basis) using controlled x gate and phase shift s gate\n",
    "for x in range(3,6):\n",
    "    qc.rx(pi/2,x)#Set to |-i>\n",
    "    qc.s(x)#Set to |+>\n",
    "    \n",
    "    ##Collapses superposition of Qubit 3-6 and assigns value to corrosponding Classical bit\n",
    "    qc.measure(x,x-3)\n",
    "\n",
    "qc.barrier()"
   ]
  },
  {
   "cell_type": "code",
   "execution_count": 5,
   "id": "7c264d5f-f4cf-4b49-a85a-16e9bd77ad94",
   "metadata": {},
   "outputs": [],
   "source": [
    "#Run code to check Bloch spheres of Qubits in superposition(|+> basis)\n",
    "#qc.save_statevector()\n",
    "#qobj=assemble(qc)\n",
    "#result=sim.run(qobj).result().get_statevector()\n",
    "#plot_bloch_multivector(result)"
   ]
  },
  {
   "cell_type": "code",
   "execution_count": 6,
   "id": "0bd20d43-38e3-4803-878d-b19f00b0a96e",
   "metadata": {},
   "outputs": [],
   "source": [
    "#sets Qubits 1-3 into superposition(|+> or |-> basis) based on if Qubits 3-6 were measured as |0> or |1>\n",
    "for x in range(0,3):\n",
    "    qc.ry(pi/2,x)#Set to |+>\n",
    "    qc.cz(x+3,x)#Set to |-> if control qubit is |1>,else stays at |+>\n",
    "    qc.ry(-pi,x)#Set to |+> if qubit was at |->,else shifts to |->\n"
   ]
  },
  {
   "cell_type": "code",
   "execution_count": 7,
   "id": "fc895970-5f0b-4b89-8961-27d1e79ce8ec",
   "metadata": {},
   "outputs": [],
   "source": [
    "#Run code to check Bloch spheres of Qubits 1-3 in superposition(|+>  or |-> basis) and Qubits 3-6 (|0> or |1> basis)\n",
    "#qc.save_statevector()\n",
    "#qobj=assemble(qc)\n",
    "#result=sim.run(qobj).result().get_statevector()\n",
    "#plot_bloch_multivector(result)"
   ]
  },
  {
   "cell_type": "code",
   "execution_count": 8,
   "id": "c2c29d53-627c-4357-8e44-417da95df510",
   "metadata": {},
   "outputs": [],
   "source": [
    "#Overwrites Classical bit values stored from Qubits 3-6 with values from measured Qubits 1-3\n",
    "for x in range(0,3):\n",
    "    qc.measure(x,x)"
   ]
  },
  {
   "cell_type": "code",
   "execution_count": 9,
   "id": "39e2f795-9be8-47ad-9e99-c93b95f854b2",
   "metadata": {},
   "outputs": [
    {
     "data": {
      "image/png": "[encoded data removed]",
      "text/plain": [
       "<Figure size 929.397x445.48 with 1 Axes>"
      ]
     },
     "execution_count": 9,
     "metadata": {},
     "output_type": "execute_result"
    }
   ],
   "source": [
    "#Creates barrier between gates for qc.draw() and optimization level\n",
    "qc.draw()"
   ]
  },
  {
   "cell_type": "code",
   "execution_count": 10,
   "id": "71255bc3-1927-400f-a659-0984f9bc5d67",
   "metadata": {},
   "outputs": [],
   "source": [
    "#Function to convert Qubits to Base 10 and displays randomly generated number\n",
    "def Generate():\n",
    "    #memory=True to access indivual simulation qubit measurement values\n",
    "    job=execute(qc,sim,shots=sim_run,memory=True)\n",
    "    result=job.result()\n",
    "    counts=result.get_counts()\n",
    "    memory=result.get_memory()\n",
    "    \n",
    "    #Converts Qubits to Base 10\n",
    "    int_value=int(memory[0],2)\n",
    "    \n",
    "    #Check int_value throughout iterations\n",
    "    #print(int_value)\n",
    "    \n",
    "    if int_value==7 or int_value==0:\n",
    "        Generate()\n",
    "    else:\n",
    "        print(\"Random Number Generated:\", int_value)"
   ]
  },
  {
   "cell_type": "code",
   "execution_count": 11,
   "id": "3d38d779-89fe-472d-b5a6-94677426a1bb",
   "metadata": {},
   "outputs": [
    {
     "name": "stdout",
     "output_type": "stream",
     "text": [
      "Random Number Generated: 5\n"
     ]
    }
   ],
   "source": [
    "Generate()"
   ]
  },
  {
   "cell_type": "code",
   "execution_count": null,
   "id": "750f2b3a-027f-4844-b365-b9105fbfb364",
   "metadata": {},
   "outputs": [],
   "source": []
  },
  {
   "cell_type": "code",
   "execution_count": null,
   "id": "1b1ec38b-6278-46d5-958d-b5622e5e5a75",
   "metadata": {},
   "outputs": [],
   "source": []
  },
  {
   "cell_type": "code",
   "execution_count": null,
   "id": "02a0be6b-2ac3-480b-a7a2-ed5148d72158",
   "metadata": {},
   "outputs": [],
   "source": []
  },
  {
   "cell_type": "code",
   "execution_count": null,
   "id": "103bf401-ec8a-4872-b0ab-6020aa2949c4",
   "metadata": {},
   "outputs": [],
   "source": []
  },
  {
   "cell_type": "code",
   "execution_count": null,
   "id": "12f95473-a09b-451e-8395-ef9a414e25c3",
   "metadata": {},
   "outputs": [],
   "source": []
  },
  {
   "cell_type": "code",
   "execution_count": null,
   "id": "a3f62a77-2afe-4e9e-ad10-13beb0b287bd",
   "metadata": {},
   "outputs": [],
   "source": []
  }
 ],
 "metadata": {
  "kernelspec": {
   "display_name": "Qiskit v0.35.0 (ipykernel)",
   "language": "python",
   "name": "python3"
  },
  "language_info": {
   "codemirror_mode": {
    "name": "ipython",
    "version": 3
   },
   "file_extension": ".py",
   "mimetype": "text/x-python",
   "name": "python",
   "nbconvert_exporter": "python",
   "pygments_lexer": "ipython3",
   "version": "3.8.13"
  },
  "widgets": {
   "application/vnd.jupyter.widget-state+json": {
    "state": {},
    "version_major": 2,
    "version_minor": 0
   }
  }
 },
 "nbformat": 4,
 "nbformat_minor": 5
}
