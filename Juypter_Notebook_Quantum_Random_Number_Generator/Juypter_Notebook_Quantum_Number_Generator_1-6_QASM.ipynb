{
 "cells": [
  {
   "cell_type": "code",
   "execution_count": 16,
   "id": "56e27f1d-cb91-4a53-89b9-21a7b7ab0f3e",
   "metadata": {},
   "outputs": [],
   "source": [
    "#Import Qiskit and Qiskit.Visualization\n",
    "import qiskit\n",
    "from qiskit import QuantumCircuit, assemble, Aer,execute\n",
    "from qiskit.visualization import plot_bloch_multivector"
   ]
  },
  {
   "cell_type": "code",
   "execution_count": 17,
   "id": "6e12c925-3989-406a-9182-65b1dde93131",
   "metadata": {},
   "outputs": [],
   "source": [
    "#Set Current Qiskit Backend to QASM Simulator \n",
    "#Switch if using IBM Quantum Computers\n",
    "sim=Aer.get_backend('qasm_simulator')"
   ]
  },
  {
   "cell_type": "code",
   "execution_count": 18,
   "id": "774ffde8-6e62-419a-b76e-d87b50c76929",
   "metadata": {},
   "outputs": [],
   "source": [
    "#Intializes Quantum Circuit with 3 Qubits and 3 Classical Bits\n",
    "qc=QuantumCircuit(3,3)\n",
    "\n",
    "#Amount of times simulation is run\n",
    "sim_run=1"
   ]
  },
  {
   "cell_type": "code",
   "execution_count": 19,
   "id": "8d1c3aa8-1b09-4785-9b5b-5bb9e375d5a7",
   "metadata": {
    "tags": []
   },
   "outputs": [],
   "source": [
    "#Sets every Qubit in superposition(|+> basis) using Hadamard Gate\n",
    "#50% chance of |0> and 50% chance of |1>\n",
    "for i in range(0,3):\n",
    "    qc.h(i)   "
   ]
  },
  {
   "cell_type": "code",
   "execution_count": 20,
   "id": "2a57cdf1-1bf6-48c8-877a-f12fe5b80671",
   "metadata": {},
   "outputs": [],
   "source": [
    "#Creates barrier between gates and measurements for qc.draw() and optimization level\n",
    "qc.barrier()"
   ]
  },
  {
   "cell_type": "code",
   "execution_count": 21,
   "id": "f1288ec9-5cda-4ef4-9ae8-7e6caa0702ef",
   "metadata": {},
   "outputs": [],
   "source": [
    "#Run code to check Bloch spheres of Qubits in superposition(|+> basis)\n",
    "#qc.save_statevector()\n",
    "#qobj=assemble(qc)\n",
    "#result=sim.run(qobj).result().get_statevector()\n",
    "#plot_bloch_multivector(result)"
   ]
  },
  {
   "cell_type": "code",
   "execution_count": 22,
   "id": "b9675348-1652-4a78-ac59-ac5c6de2d8fa",
   "metadata": {
    "tags": []
   },
   "outputs": [],
   "source": [
    "#Collapses superposition of every Qubit and assigns value to corrosponding Classical bit\n",
    "for x in range(0,3):\n",
    "    qc.measure(x,x)"
   ]
  },
  {
   "cell_type": "code",
   "execution_count": 23,
   "id": "33660691-bdcd-4112-8903-7a949ca5392e",
   "metadata": {},
   "outputs": [
    {
     "data": {
      "image/png": "[encoded data removed]",
      "text/plain": [
       "<Figure size 327.397x264.88 with 1 Axes>"
      ]
     },
     "execution_count": 23,
     "metadata": {},
     "output_type": "execute_result"
    }
   ],
   "source": [
    "#Draws Quantum Circuit\n",
    "qc.draw()"
   ]
  },
  {
   "cell_type": "code",
   "execution_count": 9,
   "id": "b3c5f423-7ef9-4df8-b64b-882ce8f1fae1",
   "metadata": {},
   "outputs": [],
   "source": [
    "#Run code to check Bloch spheres of Qubits after measurement (Either |0> or |1>)\n",
    "#qc.save_statevector()\n",
    "#qobj=assemble(qc)\n",
    "#result=sim.run(qobj).result().get_statevector()\n",
    "#plot_bloch_multivector(result)"
   ]
  },
  {
   "cell_type": "code",
   "execution_count": 14,
   "id": "982ae714-1c99-4ce5-8f35-fedd0803903c",
   "metadata": {},
   "outputs": [],
   "source": [
    "#Function to convert Qubits to Base 10 and displays randomly generated number\n",
    "def Generate():\n",
    "    #memory=True to access indivual simulation qubit measurement values\n",
    "    job=execute(qc,sim,shots=sim_run,memory=True)\n",
    "    result=job.result()\n",
    "    counts=result.get_counts()\n",
    "    memory=result.get_memory()\n",
    "    #Converts Qubits to Base 10\n",
    "    int_value=int(memory[0],2)\n",
    "    \n",
    "    #Check int_value throughout iterations\n",
    "    #print(int_value)\n",
    "    \n",
    "    if int_value==7 or int_value==0:\n",
    "        Generate()\n",
    "    else:\n",
    "        print(\"Random Number Generated:\", int_value)\n",
    "        "
   ]
  },
  {
   "cell_type": "code",
   "execution_count": 15,
   "id": "d94c30eb-3d26-4d56-81a4-49010530d70c",
   "metadata": {},
   "outputs": [
    {
     "name": "stdout",
     "output_type": "stream",
     "text": [
      "Random Number Generated: 4\n"
     ]
    }
   ],
   "source": [
    "Generate()"
   ]
  },
  {
   "cell_type": "code",
   "execution_count": null,
   "id": "2d30466e-9085-4049-8fd1-0d373072ef58",
   "metadata": {},
   "outputs": [],
   "source": []
  },
  {
   "cell_type": "code",
   "execution_count": null,
   "id": "4abc7579-ff23-48a9-9c19-4d47d6c70445",
   "metadata": {},
   "outputs": [],
   "source": []
  }
 ],
 "metadata": {
  "kernelspec": {
   "display_name": "Qiskit v0.35.0 (ipykernel)",
   "language": "python",
   "name": "python3"
  },
  "language_info": {
   "codemirror_mode": {
    "name": "ipython",
    "version": 3
   },
   "file_extension": ".py",
   "mimetype": "text/x-python",
   "name": "python",
   "nbconvert_exporter": "python",
   "pygments_lexer": "ipython3",
   "version": "3.8.13"
  },
  "widgets": {
   "application/vnd.jupyter.widget-state+json": {
    "state": {},
    "version_major": 2,
    "version_minor": 0
   }
  }
 },
 "nbformat": 4,
 "nbformat_minor": 5
}
