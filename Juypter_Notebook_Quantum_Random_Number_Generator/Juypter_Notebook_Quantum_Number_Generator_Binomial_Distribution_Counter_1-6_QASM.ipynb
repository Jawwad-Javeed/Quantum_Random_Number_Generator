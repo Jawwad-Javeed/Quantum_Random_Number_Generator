{
 "cells": [
  {
   "cell_type": "code",
   "execution_count": 19,
   "id": "52266bc1-cbb6-44db-b191-10372bdc33d6",
   "metadata": {},
   "outputs": [],
   "source": [
    "#Import Qiskit\n",
    "import qiskit\n",
    "from qiskit import QuantumCircuit, assemble, Aer,execute"
   ]
  },
  {
   "cell_type": "code",
   "execution_count": 20,
   "id": "f0cede86-1f20-481a-9ff7-88312b8bf4b7",
   "metadata": {},
   "outputs": [],
   "source": [
    "#Set Current Qiskit Backend to QASM Simulator \n",
    "#Switch if using IBM Quantum Computers\n",
    "sim=Aer.get_backend('qasm_simulator')"
   ]
  },
  {
   "cell_type": "code",
   "execution_count": 21,
   "id": "035a96d2-78a6-42ee-87d6-d02ed90cc4ad",
   "metadata": {},
   "outputs": [],
   "source": [
    "#Intializes Quantum Circuit with 1 Qubit and 1 Classical Bit\n",
    "qc=QuantumCircuit(1,1)\n",
    "\n",
    "#Amount of times simulation is run\n",
    "sim_run=6\n",
    "\n",
    "#Initial Value of Binomial Distribution count\n",
    "Start_value=0"
   ]
  },
  {
   "cell_type": "code",
   "execution_count": 22,
   "id": "c5dd50c0-525a-4d15-b592-9bac49219abd",
   "metadata": {},
   "outputs": [],
   "source": [
    "#Sets every Qubit in superposition(|+> basis) using Hadamard Gate\n",
    "#50% chance of |0> and 50% chance of |1>\n",
    "for i in range(0,1):\n",
    "    qc.h(i)\n",
    "    "
   ]
  },
  {
   "cell_type": "code",
   "execution_count": 23,
   "id": "263581eb-0e97-44ee-ba5a-effb39b9f7e7",
   "metadata": {},
   "outputs": [],
   "source": [
    "#Collapses superposition of every Qubit and assigns value to corrosponding Classical bit\n",
    "for x in range(0,1):\n",
    "    qc.measure(x,x)"
   ]
  },
  {
   "cell_type": "code",
   "execution_count": 30,
   "id": "3a589c55-a2d5-4893-9ae1-88079efb5886",
   "metadata": {},
   "outputs": [
    {
     "name": "stdout",
     "output_type": "stream",
     "text": [
      "['0', '1', '1', '0', '0', '0']\n"
     ]
    }
   ],
   "source": [
    "#Prints indivual simulation qubit measurement values\n",
    "job=execute(qc,sim,shots=sim_run,memory=True)\n",
    "result=job.result()\n",
    "counts=result.get_counts()\n",
    "memory=result.get_memory()\n",
    "\n",
    "print(memory)"
   ]
  },
  {
   "cell_type": "code",
   "execution_count": 31,
   "id": "29369425-a052-4e94-ae5d-0d953e589dd5",
   "metadata": {},
   "outputs": [],
   "source": [
    "#convert Qubits to Base 10\n",
    "for x in range(0,sim_run):\n",
    "    int_value=int(memory[x],2)\n",
    "    #Adds 1 to Start_Value if |1> else adds 0\n",
    "    Start_value=Start_value+int_value"
   ]
  },
  {
   "cell_type": "code",
   "execution_count": 32,
   "id": "28a98ac5-dbdd-4472-84ed-6ab2c2faa78d",
   "metadata": {},
   "outputs": [
    {
     "name": "stdout",
     "output_type": "stream",
     "text": [
      "Random Number Generated(Complete Result): 8\n"
     ]
    }
   ],
   "source": [
    "print(\"Random Number Generated(Complete Result):\", Start_value)"
   ]
  },
  {
   "cell_type": "code",
   "execution_count": null,
   "id": "96b63957-f7c0-4bcf-8005-165895f72347",
   "metadata": {},
   "outputs": [],
   "source": []
  },
  {
   "cell_type": "code",
   "execution_count": null,
   "id": "a2aae13a-f680-40b7-9021-39320318e509",
   "metadata": {},
   "outputs": [],
   "source": []
  }
 ],
 "metadata": {
  "interpreter": {
   "hash": "f08154012ddadd8e950e6e9e035c7a7b32c136e7647e9b7c77e02eb723a8bedb"
  },
  "kernelspec": {
   "display_name": "Qiskit v0.35.0 (ipykernel)",
   "language": "python",
   "name": "python3"
  },
  "language_info": {
   "codemirror_mode": {
    "name": "ipython",
    "version": 3
   },
   "file_extension": ".py",
   "mimetype": "text/x-python",
   "name": "python",
   "nbconvert_exporter": "python",
   "pygments_lexer": "ipython3",
   "version": "3.8.13"
  },
  "widgets": {
   "application/vnd.jupyter.widget-state+json": {
    "state": {},
    "version_major": 2,
    "version_minor": 0
   }
  }
 },
 "nbformat": 4,
 "nbformat_minor": 5
}
